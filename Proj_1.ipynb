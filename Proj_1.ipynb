{
 "cells": [
  {
   "cell_type": "code",
   "execution_count": 13,
   "metadata": {},
   "outputs": [
    {
     "ename": "ModuleNotFoundError",
     "evalue": "No module named 'matplotlib'",
     "output_type": "error",
     "traceback": [
      "\u001b[1;31m---------------------------------------------------------------------------\u001b[0m",
      "\u001b[1;31mModuleNotFoundError\u001b[0m                       Traceback (most recent call last)",
      "Cell \u001b[1;32mIn[13], line 5\u001b[0m\n\u001b[0;32m      3\u001b[0m \u001b[38;5;28;01mimport\u001b[39;00m \u001b[38;5;21;01mnumpy\u001b[39;00m \u001b[38;5;28;01mas\u001b[39;00m \u001b[38;5;21;01mnp\u001b[39;00m\n\u001b[0;32m      4\u001b[0m \u001b[38;5;28;01mfrom\u001b[39;00m \u001b[38;5;21;01mscipy\u001b[39;00m\u001b[38;5;21;01m.\u001b[39;00m\u001b[38;5;21;01mstats\u001b[39;00m \u001b[38;5;28;01mimport\u001b[39;00m linregress\n\u001b[1;32m----> 5\u001b[0m \u001b[38;5;28;01mimport\u001b[39;00m \u001b[38;5;21;01mmatplotlib\u001b[39;00m\u001b[38;5;21;01m.\u001b[39;00m\u001b[38;5;21;01mpyplot\u001b[39;00m \u001b[38;5;28;01mas\u001b[39;00m \u001b[38;5;21;01mplt\u001b[39;00m\n",
      "\u001b[1;31mModuleNotFoundError\u001b[0m: No module named 'matplotlib'"
     ]
    }
   ],
   "source": [
    "# Import dependencies\n",
    "import pandas as pd\n",
    "import numpy as np\n",
    "from scipy.stats import linregress\n",
    "import matplotlib.pyplot as plt"
   ]
  },
  {
   "cell_type": "code",
   "execution_count": 8,
   "metadata": {},
   "outputs": [],
   "source": [
    "# Read the data into a Pandas DataFrame\n",
    "p1_data_df = pd.read_excel(r'C:\\Users\\tap15\\OneDrive\\Desktop\\Homework\\Project_1_baseball_stats\\p1_data.xlsx')"
   ]
  },
  {
   "cell_type": "code",
   "execution_count": null,
   "metadata": {},
   "outputs": [],
   "source": [
    "# Convert to floats and store pWar, oWar & dWar percentiles as x and y values\n",
    "for x , y in p1_data_df:\n",
    "  x_values_part_i = p1_data_df['year']\n",
    "  y_values_part_i = dWAR_percentile, oWAR_percentile, pWAR_percentile.astype(\"float\")"
   ]
  },
  {
   "cell_type": "code",
   "execution_count": null,
   "metadata": {},
   "outputs": [],
   "source": [
    "# Calculate oWAR / dWAR percentiles as prediction for World Champions (WC)\n",
    "oWAR_percentile = p1_data_df(p1_data_df['TMS'] - p1_data_df['oWar Rank']) / p1_data_df['TMS'] * 100\n",
    "dWAR_percentile = p1_data_df(p1_data_df['TMS'] - p1_data_df['dWar Rank']) / p1_data_df['TMS'] * 100\n",
    "pWAR_percentile = p1_data_df(p1_data_df['TMS'] - p1_data_df['pWar Rank']) / p1_data_df['TMS'] * 100"
   ]
  },
  {
   "cell_type": "code",
   "execution_count": null,
   "metadata": {},
   "outputs": [],
   "source": [
    "# Plot scatter plot\n",
    "plt.figure()\n",
    "plt.scatter(x_values_part_i,y_values_part_i)\n",
    "\n",
    "# Label plot\n",
    "plt.xlabel('Year')\n",
    "plt.ylabel('pWAR, oWAR, dWAR Ranking')\n",
    "\n",
    "# Show plot\n",
    "plt.show()"
   ]
  },
  {
   "cell_type": "code",
   "execution_count": null,
   "metadata": {},
   "outputs": [],
   "source": [
    "# Create a bar chart\n",
    "x_axis = p1_data_df(['Year'])\n",
    "y_axis = p1_data_df(['pWAR Rank', 'oWAR Rank', 'dWAR Rank'])\n",
    "tick_locations = p1_data_df['year']\n",
    "plt.xticks(tick_locations)\n",
    "plt.bar(x_axis, y_axis, color=\"b\", align=\"center\")\n",
    "plt.show()\n"
   ]
  }
 ],
 "metadata": {
  "kernelspec": {
   "display_name": "Python 3 (ipykernel)",
   "language": "python",
   "name": "python3"
  },
  "language_info": {
   "codemirror_mode": {
    "name": "ipython",
    "version": 3
   },
   "file_extension": ".py",
   "mimetype": "text/x-python",
   "name": "python",
   "nbconvert_exporter": "python",
   "pygments_lexer": "ipython3",
   "version": "3.11.7"
  }
 },
 "nbformat": 4,
 "nbformat_minor": 4
}
